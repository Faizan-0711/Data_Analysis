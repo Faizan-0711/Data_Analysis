{
 "cells": [
  {
   "cell_type": "markdown",
   "id": "ab195898",
   "metadata": {},
   "source": [
    "# <font color=green> Introduction:</font>"
   ]
  },
  {
   "cell_type": "markdown",
   "id": "42b635f7",
   "metadata": {},
   "source": [
    "**In this Jupyter notebook I am going to analyse a Uber Dataset to find some insights. I will explore and find answer to some of the questions :**\n",
    "1. How much Uber trips occurred during the timestamp in the dataset?\n",
    "2. What is the median for daily and monthly total trips?\n",
    "3. How is the customer segment proportion?\n",
    "4. How is the hourly-trend for Uber trips?\n",
    "5. What is the probability of each segments ordering an Uber for each hour?\n",
    "6. What is the favorite pick-up spots for each segment?\n",
    "7. How is the daily-trend for Uber trips?\n",
    "8. How is the monthly-trend for Uber trips?\n",
    "9. Is there any specific characteristic of each segment based on the travel distance?\n",
    "10. Is there any specific characteristic of each segment based on the travel time?"
   ]
  },
  {
   "cell_type": "markdown",
   "id": "d22ed370",
   "metadata": {},
   "source": [
    "## <font color= black> Importing Data: </font>"
   ]
  },
  {
   "cell_type": "code",
   "execution_count": 1,
   "id": "0309d0b5",
   "metadata": {},
   "outputs": [],
   "source": [
    "import pandas as pd\n",
    "import matplotlib.pyplot as plt\n",
    "import seaborn as sns"
   ]
  },
  {
   "cell_type": "code",
   "execution_count": 2,
   "id": "800a645e",
   "metadata": {},
   "outputs": [],
   "source": [
    "df=pd.read_csv(\"C:/Users/f/Downloads/archive/UberDataset.csv\")"
   ]
  },
  {
   "cell_type": "code",
   "execution_count": 3,
   "id": "022791e0",
   "metadata": {},
   "outputs": [
    {
     "data": {
      "text/html": [
       "<div>\n",
       "<style scoped>\n",
       "    .dataframe tbody tr th:only-of-type {\n",
       "        vertical-align: middle;\n",
       "    }\n",
       "\n",
       "    .dataframe tbody tr th {\n",
       "        vertical-align: top;\n",
       "    }\n",
       "\n",
       "    .dataframe thead th {\n",
       "        text-align: right;\n",
       "    }\n",
       "</style>\n",
       "<table border=\"1\" class=\"dataframe\">\n",
       "  <thead>\n",
       "    <tr style=\"text-align: right;\">\n",
       "      <th></th>\n",
       "      <th>START_DATE</th>\n",
       "      <th>END_DATE</th>\n",
       "      <th>CATEGORY</th>\n",
       "      <th>START</th>\n",
       "      <th>STOP</th>\n",
       "      <th>MILES</th>\n",
       "      <th>PURPOSE</th>\n",
       "    </tr>\n",
       "  </thead>\n",
       "  <tbody>\n",
       "    <tr>\n",
       "      <th>0</th>\n",
       "      <td>01-01-2016 21:11</td>\n",
       "      <td>01-01-2016 21:17</td>\n",
       "      <td>Business</td>\n",
       "      <td>Fort Pierce</td>\n",
       "      <td>Fort Pierce</td>\n",
       "      <td>5.1</td>\n",
       "      <td>Meal/Entertain</td>\n",
       "    </tr>\n",
       "    <tr>\n",
       "      <th>1</th>\n",
       "      <td>01-02-2016 01:25</td>\n",
       "      <td>01-02-2016 01:37</td>\n",
       "      <td>Business</td>\n",
       "      <td>Fort Pierce</td>\n",
       "      <td>Fort Pierce</td>\n",
       "      <td>5.0</td>\n",
       "      <td>NaN</td>\n",
       "    </tr>\n",
       "    <tr>\n",
       "      <th>2</th>\n",
       "      <td>01-02-2016 20:25</td>\n",
       "      <td>01-02-2016 20:38</td>\n",
       "      <td>Business</td>\n",
       "      <td>Fort Pierce</td>\n",
       "      <td>Fort Pierce</td>\n",
       "      <td>4.8</td>\n",
       "      <td>Errand/Supplies</td>\n",
       "    </tr>\n",
       "    <tr>\n",
       "      <th>3</th>\n",
       "      <td>01-05-2016 17:31</td>\n",
       "      <td>01-05-2016 17:45</td>\n",
       "      <td>Business</td>\n",
       "      <td>Fort Pierce</td>\n",
       "      <td>Fort Pierce</td>\n",
       "      <td>4.7</td>\n",
       "      <td>Meeting</td>\n",
       "    </tr>\n",
       "    <tr>\n",
       "      <th>4</th>\n",
       "      <td>01-06-2016 14:42</td>\n",
       "      <td>01-06-2016 15:49</td>\n",
       "      <td>Business</td>\n",
       "      <td>Fort Pierce</td>\n",
       "      <td>West Palm Beach</td>\n",
       "      <td>63.7</td>\n",
       "      <td>Customer Visit</td>\n",
       "    </tr>\n",
       "  </tbody>\n",
       "</table>\n",
       "</div>"
      ],
      "text/plain": [
       "         START_DATE          END_DATE  CATEGORY        START             STOP  \\\n",
       "0  01-01-2016 21:11  01-01-2016 21:17  Business  Fort Pierce      Fort Pierce   \n",
       "1  01-02-2016 01:25  01-02-2016 01:37  Business  Fort Pierce      Fort Pierce   \n",
       "2  01-02-2016 20:25  01-02-2016 20:38  Business  Fort Pierce      Fort Pierce   \n",
       "3  01-05-2016 17:31  01-05-2016 17:45  Business  Fort Pierce      Fort Pierce   \n",
       "4  01-06-2016 14:42  01-06-2016 15:49  Business  Fort Pierce  West Palm Beach   \n",
       "\n",
       "   MILES          PURPOSE  \n",
       "0    5.1   Meal/Entertain  \n",
       "1    5.0              NaN  \n",
       "2    4.8  Errand/Supplies  \n",
       "3    4.7          Meeting  \n",
       "4   63.7   Customer Visit  "
      ]
     },
     "execution_count": 3,
     "metadata": {},
     "output_type": "execute_result"
    }
   ],
   "source": [
    "df.head()"
   ]
  },
  {
   "cell_type": "code",
   "execution_count": 4,
   "id": "56a15cb0",
   "metadata": {},
   "outputs": [
    {
     "data": {
      "text/html": [
       "<div>\n",
       "<style scoped>\n",
       "    .dataframe tbody tr th:only-of-type {\n",
       "        vertical-align: middle;\n",
       "    }\n",
       "\n",
       "    .dataframe tbody tr th {\n",
       "        vertical-align: top;\n",
       "    }\n",
       "\n",
       "    .dataframe thead th {\n",
       "        text-align: right;\n",
       "    }\n",
       "</style>\n",
       "<table border=\"1\" class=\"dataframe\">\n",
       "  <thead>\n",
       "    <tr style=\"text-align: right;\">\n",
       "      <th></th>\n",
       "      <th>START_DATE</th>\n",
       "      <th>END_DATE</th>\n",
       "      <th>CATEGORY</th>\n",
       "      <th>START</th>\n",
       "      <th>STOP</th>\n",
       "      <th>MILES</th>\n",
       "      <th>PURPOSE</th>\n",
       "    </tr>\n",
       "  </thead>\n",
       "  <tbody>\n",
       "    <tr>\n",
       "      <th>1151</th>\n",
       "      <td>12/31/2016 13:24</td>\n",
       "      <td>12/31/2016 13:42</td>\n",
       "      <td>Business</td>\n",
       "      <td>Kar?chi</td>\n",
       "      <td>Unknown Location</td>\n",
       "      <td>3.9</td>\n",
       "      <td>Temporary Site</td>\n",
       "    </tr>\n",
       "    <tr>\n",
       "      <th>1152</th>\n",
       "      <td>12/31/2016 15:03</td>\n",
       "      <td>12/31/2016 15:38</td>\n",
       "      <td>Business</td>\n",
       "      <td>Unknown Location</td>\n",
       "      <td>Unknown Location</td>\n",
       "      <td>16.2</td>\n",
       "      <td>Meeting</td>\n",
       "    </tr>\n",
       "    <tr>\n",
       "      <th>1153</th>\n",
       "      <td>12/31/2016 21:32</td>\n",
       "      <td>12/31/2016 21:50</td>\n",
       "      <td>Business</td>\n",
       "      <td>Katunayake</td>\n",
       "      <td>Gampaha</td>\n",
       "      <td>6.4</td>\n",
       "      <td>Temporary Site</td>\n",
       "    </tr>\n",
       "    <tr>\n",
       "      <th>1154</th>\n",
       "      <td>12/31/2016 22:08</td>\n",
       "      <td>12/31/2016 23:51</td>\n",
       "      <td>Business</td>\n",
       "      <td>Gampaha</td>\n",
       "      <td>Ilukwatta</td>\n",
       "      <td>48.2</td>\n",
       "      <td>Temporary Site</td>\n",
       "    </tr>\n",
       "    <tr>\n",
       "      <th>1155</th>\n",
       "      <td>Totals</td>\n",
       "      <td>NaN</td>\n",
       "      <td>NaN</td>\n",
       "      <td>NaN</td>\n",
       "      <td>NaN</td>\n",
       "      <td>12204.7</td>\n",
       "      <td>NaN</td>\n",
       "    </tr>\n",
       "  </tbody>\n",
       "</table>\n",
       "</div>"
      ],
      "text/plain": [
       "            START_DATE          END_DATE  CATEGORY             START  \\\n",
       "1151  12/31/2016 13:24  12/31/2016 13:42  Business           Kar?chi   \n",
       "1152  12/31/2016 15:03  12/31/2016 15:38  Business  Unknown Location   \n",
       "1153  12/31/2016 21:32  12/31/2016 21:50  Business        Katunayake   \n",
       "1154  12/31/2016 22:08  12/31/2016 23:51  Business           Gampaha   \n",
       "1155            Totals               NaN       NaN               NaN   \n",
       "\n",
       "                  STOP    MILES         PURPOSE  \n",
       "1151  Unknown Location      3.9  Temporary Site  \n",
       "1152  Unknown Location     16.2         Meeting  \n",
       "1153           Gampaha      6.4  Temporary Site  \n",
       "1154         Ilukwatta     48.2  Temporary Site  \n",
       "1155               NaN  12204.7             NaN  "
      ]
     },
     "execution_count": 4,
     "metadata": {},
     "output_type": "execute_result"
    }
   ],
   "source": [
    "df.tail()"
   ]
  },
  {
   "cell_type": "markdown",
   "id": "476a224a",
   "metadata": {},
   "source": [
    "#### The index 1155 is useless therefore droping that row"
   ]
  },
  {
   "cell_type": "code",
   "execution_count": 5,
   "id": "4ed3791a",
   "metadata": {},
   "outputs": [],
   "source": [
    "df.drop(index=1155, axis=0, inplace = True)"
   ]
  },
  {
   "cell_type": "code",
   "execution_count": 6,
   "id": "8de03095",
   "metadata": {},
   "outputs": [
    {
     "data": {
      "text/html": [
       "<div>\n",
       "<style scoped>\n",
       "    .dataframe tbody tr th:only-of-type {\n",
       "        vertical-align: middle;\n",
       "    }\n",
       "\n",
       "    .dataframe tbody tr th {\n",
       "        vertical-align: top;\n",
       "    }\n",
       "\n",
       "    .dataframe thead th {\n",
       "        text-align: right;\n",
       "    }\n",
       "</style>\n",
       "<table border=\"1\" class=\"dataframe\">\n",
       "  <thead>\n",
       "    <tr style=\"text-align: right;\">\n",
       "      <th></th>\n",
       "      <th>START_DATE</th>\n",
       "      <th>END_DATE</th>\n",
       "      <th>CATEGORY</th>\n",
       "      <th>START</th>\n",
       "      <th>STOP</th>\n",
       "      <th>MILES</th>\n",
       "      <th>PURPOSE</th>\n",
       "    </tr>\n",
       "  </thead>\n",
       "  <tbody>\n",
       "    <tr>\n",
       "      <th>1150</th>\n",
       "      <td>12/31/2016 1:07</td>\n",
       "      <td>12/31/2016 1:14</td>\n",
       "      <td>Business</td>\n",
       "      <td>Kar?chi</td>\n",
       "      <td>Kar?chi</td>\n",
       "      <td>0.7</td>\n",
       "      <td>Meeting</td>\n",
       "    </tr>\n",
       "    <tr>\n",
       "      <th>1151</th>\n",
       "      <td>12/31/2016 13:24</td>\n",
       "      <td>12/31/2016 13:42</td>\n",
       "      <td>Business</td>\n",
       "      <td>Kar?chi</td>\n",
       "      <td>Unknown Location</td>\n",
       "      <td>3.9</td>\n",
       "      <td>Temporary Site</td>\n",
       "    </tr>\n",
       "    <tr>\n",
       "      <th>1152</th>\n",
       "      <td>12/31/2016 15:03</td>\n",
       "      <td>12/31/2016 15:38</td>\n",
       "      <td>Business</td>\n",
       "      <td>Unknown Location</td>\n",
       "      <td>Unknown Location</td>\n",
       "      <td>16.2</td>\n",
       "      <td>Meeting</td>\n",
       "    </tr>\n",
       "    <tr>\n",
       "      <th>1153</th>\n",
       "      <td>12/31/2016 21:32</td>\n",
       "      <td>12/31/2016 21:50</td>\n",
       "      <td>Business</td>\n",
       "      <td>Katunayake</td>\n",
       "      <td>Gampaha</td>\n",
       "      <td>6.4</td>\n",
       "      <td>Temporary Site</td>\n",
       "    </tr>\n",
       "    <tr>\n",
       "      <th>1154</th>\n",
       "      <td>12/31/2016 22:08</td>\n",
       "      <td>12/31/2016 23:51</td>\n",
       "      <td>Business</td>\n",
       "      <td>Gampaha</td>\n",
       "      <td>Ilukwatta</td>\n",
       "      <td>48.2</td>\n",
       "      <td>Temporary Site</td>\n",
       "    </tr>\n",
       "  </tbody>\n",
       "</table>\n",
       "</div>"
      ],
      "text/plain": [
       "            START_DATE          END_DATE  CATEGORY             START  \\\n",
       "1150   12/31/2016 1:07   12/31/2016 1:14  Business           Kar?chi   \n",
       "1151  12/31/2016 13:24  12/31/2016 13:42  Business           Kar?chi   \n",
       "1152  12/31/2016 15:03  12/31/2016 15:38  Business  Unknown Location   \n",
       "1153  12/31/2016 21:32  12/31/2016 21:50  Business        Katunayake   \n",
       "1154  12/31/2016 22:08  12/31/2016 23:51  Business           Gampaha   \n",
       "\n",
       "                  STOP  MILES         PURPOSE  \n",
       "1150           Kar?chi    0.7         Meeting  \n",
       "1151  Unknown Location    3.9  Temporary Site  \n",
       "1152  Unknown Location   16.2         Meeting  \n",
       "1153           Gampaha    6.4  Temporary Site  \n",
       "1154         Ilukwatta   48.2  Temporary Site  "
      ]
     },
     "execution_count": 6,
     "metadata": {},
     "output_type": "execute_result"
    }
   ],
   "source": [
    "df.tail()"
   ]
  },
  {
   "cell_type": "code",
   "execution_count": 7,
   "id": "37ae22e8",
   "metadata": {},
   "outputs": [
    {
     "data": {
      "text/plain": [
       "START_DATE     object\n",
       "END_DATE       object\n",
       "CATEGORY       object\n",
       "START          object\n",
       "STOP           object\n",
       "MILES         float64\n",
       "PURPOSE        object\n",
       "dtype: object"
      ]
     },
     "execution_count": 7,
     "metadata": {},
     "output_type": "execute_result"
    }
   ],
   "source": [
    "#Data Types of all the columns:\n",
    "df.dtypes"
   ]
  },
  {
   "cell_type": "markdown",
   "id": "7313f127",
   "metadata": {},
   "source": [
    "The Start_Date and End_Date are of type Object \n",
    "To ease our analysis , changing it to datetime."
   ]
  },
  {
   "cell_type": "code",
   "execution_count": 8,
   "id": "54d1f6a4",
   "metadata": {},
   "outputs": [],
   "source": [
    "#Changing DTypes:\n",
    "df['START_DATE']=pd.to_datetime(df['START_DATE'], infer_datetime_format=True, utc=True)\n",
    "df['END_DATE']=pd.to_datetime(df['END_DATE'], infer_datetime_format=True, utc=True)"
   ]
  },
  {
   "cell_type": "code",
   "execution_count": 9,
   "id": "867841d4",
   "metadata": {},
   "outputs": [
    {
     "data": {
      "text/plain": [
       "START_DATE    datetime64[ns, UTC]\n",
       "END_DATE      datetime64[ns, UTC]\n",
       "CATEGORY                   object\n",
       "START                      object\n",
       "STOP                       object\n",
       "MILES                     float64\n",
       "PURPOSE                    object\n",
       "dtype: object"
      ]
     },
     "execution_count": 9,
     "metadata": {},
     "output_type": "execute_result"
    }
   ],
   "source": [
    "df.dtypes"
   ]
  },
  {
   "cell_type": "markdown",
   "id": "cb2d3a9d",
   "metadata": {},
   "source": [
    "### Data Cleaning :"
   ]
  },
  {
   "cell_type": "markdown",
   "id": "ee5cd550",
   "metadata": {},
   "source": [
    "Dropping Duplictaed Rows from the data set"
   ]
  },
  {
   "cell_type": "code",
   "execution_count": 10,
   "id": "dc85d8ad",
   "metadata": {},
   "outputs": [
    {
     "name": "stdout",
     "output_type": "stream",
     "text": [
      "Shape before dropping the duplicates :  (1155, 7)\n",
      "No. of Duplicated Values:  1\n",
      "Shape after Dropping the Duplicates:  (1154, 7)\n"
     ]
    }
   ],
   "source": [
    "def drop_dup(df):\n",
    "    print (f'Shape before dropping the duplicates : ', df.shape)\n",
    "    dup=df.duplicated().sum()\n",
    "    print('No. of Duplicated Values: ',dup)\n",
    "    df=df.drop_duplicates()\n",
    "    print(f'Shape after Dropping the Duplicates: ',df.shape)\n",
    "    return df\n",
    "df=drop_dup(df)"
   ]
  },
  {
   "cell_type": "markdown",
   "id": "26052d79",
   "metadata": {},
   "source": [
    "Checking Missing Values for ecah columns:"
   ]
  },
  {
   "cell_type": "code",
   "execution_count": 11,
   "id": "16c60831",
   "metadata": {},
   "outputs": [
    {
     "data": {
      "text/plain": [
       "START_DATE      0\n",
       "END_DATE        0\n",
       "CATEGORY        0\n",
       "START           0\n",
       "STOP            0\n",
       "MILES           0\n",
       "PURPOSE       502\n",
       "dtype: int64"
      ]
     },
     "execution_count": 11,
     "metadata": {},
     "output_type": "execute_result"
    }
   ],
   "source": [
    "df.isna().sum()"
   ]
  },
  {
   "cell_type": "markdown",
   "id": "961e5b93",
   "metadata": {},
   "source": [
    "Only PURPOSE column have missing values. No.of missing values are : 502 "
   ]
  },
  {
   "cell_type": "code",
   "execution_count": 12,
   "id": "2ad09082",
   "metadata": {},
   "outputs": [
    {
     "data": {
      "text/plain": [
       "Meeting            186\n",
       "Meal/Entertain     160\n",
       "Errand/Supplies    128\n",
       "Customer Visit     101\n",
       "Temporary Site      50\n",
       "Between Offices     18\n",
       "Moving               4\n",
       "Airport/Travel       3\n",
       "Charity ($)          1\n",
       "Commute              1\n",
       "Name: PURPOSE, dtype: int64"
      ]
     },
     "execution_count": 12,
     "metadata": {},
     "output_type": "execute_result"
    }
   ],
   "source": [
    "#checking unique values in Purpose column:\n",
    "df['PURPOSE'].value_counts()"
   ]
  },
  {
   "cell_type": "code",
   "execution_count": 13,
   "id": "e66a4c53",
   "metadata": {},
   "outputs": [
    {
     "data": {
      "text/plain": [
       "Business    1077\n",
       "Personal      77\n",
       "Name: CATEGORY, dtype: int64"
      ]
     },
     "execution_count": 13,
     "metadata": {},
     "output_type": "execute_result"
    }
   ],
   "source": [
    "#checking unique values in Category Column:\n",
    "df['CATEGORY'].value_counts()"
   ]
  },
  {
   "cell_type": "code",
   "execution_count": 14,
   "id": "48982030",
   "metadata": {},
   "outputs": [
    {
     "data": {
      "text/plain": [
       "CATEGORY  PURPOSE        \n",
       "Business  Airport/Travel       3\n",
       "          Between Offices     18\n",
       "          Customer Visit     101\n",
       "          Errand/Supplies    128\n",
       "          Meal/Entertain     160\n",
       "          Meeting            186\n",
       "          Temporary Site      50\n",
       "Personal  Charity ($)          1\n",
       "          Commute              1\n",
       "          Moving               4\n",
       "dtype: int64"
      ]
     },
     "execution_count": 14,
     "metadata": {},
     "output_type": "execute_result"
    }
   ],
   "source": [
    "#checking CATEGORY and PURPOSE columns together for unique values:\n",
    "df[['CATEGORY','PURPOSE']].value_counts().sort_index(level=0, ascending = True)"
   ]
  },
  {
   "cell_type": "markdown",
   "id": "61831372",
   "metadata": {},
   "source": [
    "### Checking Inconsistent Data:"
   ]
  },
  {
   "cell_type": "code",
   "execution_count": 15,
   "id": "11a6e311",
   "metadata": {},
   "outputs": [
    {
     "data": {
      "text/plain": [
       "START_DATE    datetime64[ns, UTC]\n",
       "END_DATE      datetime64[ns, UTC]\n",
       "CATEGORY                   object\n",
       "START                      object\n",
       "STOP                       object\n",
       "MILES                     float64\n",
       "PURPOSE                    object\n",
       "dtype: object"
      ]
     },
     "execution_count": 15,
     "metadata": {},
     "output_type": "execute_result"
    }
   ],
   "source": [
    "df.dtypes"
   ]
  },
  {
   "cell_type": "code",
   "execution_count": 16,
   "id": "7d71abf9",
   "metadata": {},
   "outputs": [
    {
     "name": "stdout",
     "output_type": "stream",
     "text": [
      "Business    1077\n",
      "Personal      77\n",
      "Name: CATEGORY, dtype: int64\n",
      " \n",
      "Cary                201\n",
      "Unknown Location    148\n",
      "Morrisville          85\n",
      "Whitebridge          68\n",
      "Islamabad            57\n",
      "                   ... \n",
      "Florence              1\n",
      "Ridgeland             1\n",
      "Daytona Beach         1\n",
      "Sky Lake              1\n",
      "Gampaha               1\n",
      "Name: START, Length: 177, dtype: int64\n",
      " \n",
      "Cary                 202\n",
      "Unknown Location     149\n",
      "Morrisville           84\n",
      "Whitebridge           65\n",
      "Islamabad             58\n",
      "                    ... \n",
      "Daytona Beach          1\n",
      "Sand Lake Commons      1\n",
      "Sky Lake               1\n",
      "Vista East             1\n",
      "Ilukwatta              1\n",
      "Name: STOP, Length: 188, dtype: int64\n",
      " \n",
      "Meeting            186\n",
      "Meal/Entertain     160\n",
      "Errand/Supplies    128\n",
      "Customer Visit     101\n",
      "Temporary Site      50\n",
      "Between Offices     18\n",
      "Moving               4\n",
      "Airport/Travel       3\n",
      "Charity ($)          1\n",
      "Commute              1\n",
      "Name: PURPOSE, dtype: int64\n",
      " \n"
     ]
    }
   ],
   "source": [
    "#Checking Inconsistent Data Categorically:\n",
    "for col in df.columns:\n",
    "    if df[col].dtypes==object:\n",
    "        print(df[col].value_counts())\n",
    "        print(' ')"
   ]
  },
  {
   "cell_type": "markdown",
   "id": "503e97c7",
   "metadata": {},
   "source": [
    "The columns 'PURPOSE' and 'CATEGORY' have consistent data.\n",
    "However the columns 'START' and 'END' have inconsistent data. "
   ]
  },
  {
   "cell_type": "code",
   "execution_count": 17,
   "id": "91f4d62c",
   "metadata": {},
   "outputs": [
    {
     "name": "stdout",
     "output_type": "stream",
     "text": [
      "Agnew\n",
      "Almond\n",
      "Apex\n",
      "Arabi\n",
      "Arlington\n",
      "Arlington Park at Amberly\n",
      "Asheville\n",
      "Austin\n",
      "Banner Elk\n",
      "Bellevue\n",
      "Berkeley\n",
      "Boone\n",
      "Briar Meadow\n",
      "Bryson City\n",
      "Burtrose\n",
      "CBD\n",
      "Capitol One\n",
      "Cary\n",
      "Central\n",
      "Chalmette\n",
      "Chapel Hill\n",
      "Chessington\n",
      "College Avenue\n",
      "Colombo\n",
      "Columbia Heights\n",
      "Congress Ave District\n",
      "Connecticut Avenue\n",
      "Convention Center District\n",
      "Cory\n",
      "Couples Glen\n",
      "Covington\n",
      "Coxville\n",
      "Daytona Beach\n",
      "Downtown\n",
      "Durham\n",
      "Eagan Park\n",
      "Eagle Rock\n",
      "East Austin\n",
      "East Elmhurst\n",
      "East Harlem\n",
      "Eastgate\n",
      "Edgehill Farms\n",
      "El Cerrito\n",
      "Elk Park\n",
      "Elmhurst\n",
      "Emeryville\n",
      "Fairmont\n",
      "Farmington Woods\n",
      "Fayetteville Street\n",
      "Financial District\n",
      "Flatiron District\n",
      "Florence\n",
      "Fort Pierce\n",
      "Fuquay-Varina\n",
      "Galveston\n",
      "Gampaha\n",
      "Georgian Acres\n",
      "Gulfton\n",
      "Hayesville\n",
      "Hazelwood\n",
      "Hell's Kitchen\n",
      "Heritage Pines\n",
      "Holly Springs\n",
      "Houston\n",
      "Hudson Square\n",
      "Huntington Woods\n",
      "Ingleside\n",
      "Islamabad\n",
      "Jackson Heights\n",
      "Jacksonville\n",
      "Jamaica\n",
      "Jamestown Court\n",
      "K Street\n",
      "Kalorama Triangle\n",
      "Kar?chi\n",
      "Karachi\n",
      "Katunayaka\n",
      "Katunayake\n",
      "Katy\n",
      "Kenner\n",
      "Kilarney Woods\n",
      "Kissimmee\n",
      "Krendle Woods\n",
      "Lahore\n",
      "Lake Reams\n",
      "Lake Wellingborough\n",
      "Lakeview\n",
      "Latta\n",
      "Lexington Park at Amberly\n",
      "Long Island City\n",
      "Lower Garden District\n",
      "Lower Manhattan\n",
      "Mandeville\n",
      "Marigny\n",
      "Mcvan\n",
      "Mebane\n",
      "Medical Centre\n",
      "Menlo Park\n",
      "Meredith\n",
      "Meredith Townes\n",
      "Metairie\n",
      "Midtown\n",
      "Midtown East\n",
      "Morrisville\n",
      "Mountain View\n",
      "NOMA\n",
      "New Orleans\n",
      "New York\n",
      "Newark\n",
      "Newland\n",
      "Noorpur Shahan\n",
      "North Austin\n",
      "North Berkeley Hills\n",
      "Northwoods\n",
      "Nugegoda\n",
      "Oakland\n",
      "Old City\n",
      "Orlando\n",
      "Palo Alto\n",
      "Parkway\n",
      "Parkwood\n",
      "Pontchartrain Beach\n",
      "Pontchartrain Shores\n",
      "Port Bolivar\n",
      "Preston\n",
      "R?walpindi\n",
      "Raleigh\n",
      "Rawalpindi\n",
      "Red River District\n",
      "Redmond\n",
      "Renaissance\n",
      "Ridgeland\n",
      "Rose Hill\n",
      "SOMISSPO\n",
      "San Francisco\n",
      "San Jose\n",
      "Sand Lake Commons\n",
      "Santa Clara\n",
      "Savon Height\n",
      "Seaport\n",
      "Seattle\n",
      "Sharpstown\n",
      "Sky Lake\n",
      "Soho\n",
      "South\n",
      "South Berkeley\n",
      "South Congress\n",
      "Southside\n",
      "St Thomas\n",
      "Stonewater\n",
      "Storyville\n",
      "Sugar Land\n",
      "Summerwinds\n",
      "Sunnyside\n",
      "Sunnyvale\n",
      "Tanglewood\n",
      "Tenderloin\n",
      "The Drag\n",
      "Topton\n",
      "Townes at Everett Crossing\n",
      "Tribeca\n",
      "University District\n",
      "Unknown Location\n",
      "Wake Co.\n",
      "Wake Forest\n",
      "Washington\n",
      "Washington Avenue\n",
      "Waverly Place\n",
      "Wayne Ridge\n",
      "West Berkeley\n",
      "West End\n",
      "West Palm Beach\n",
      "West University\n",
      "Weston\n",
      "Westpark Place\n",
      "Whitebridge\n",
      "Winston Salem\n"
     ]
    }
   ],
   "source": [
    "#looking into START column:\n",
    "for i in df['START'].value_counts().sort_index().index:\n",
    "    print(i)\n",
    "    "
   ]
  },
  {
   "cell_type": "markdown",
   "id": "51aec120",
   "metadata": {},
   "source": [
    "In the START column, these values below are inconsistent. They supposed to be one value because they refer to the same location.\n",
    "\n",
    "1. Kar?chi and Karachi supposed to be Karachi (city in Pakistan)\n",
    "2. Katunayaka and Katunayake supposed to be Katunayake (International airport in Sri Lanka)\n",
    "3. Pontchartrain Beach and Pontchartrain Shores refers to a highly close location and therefore can be merged to one values, and that is Pontchartrain Beach (Amusment park in the U.S.)\n",
    "4. R?walpindi and Rawalpindi supposed to be Rawalpindi (city in Pakistan)"
   ]
  },
  {
   "cell_type": "code",
   "execution_count": 18,
   "id": "a783623d",
   "metadata": {},
   "outputs": [
    {
     "data": {
      "text/plain": [
       "Kar?chi                 27\n",
       "R?walpindi              11\n",
       "Katunayaka               2\n",
       "Pontchartrain Shores     2\n",
       "Name: START, dtype: int64"
      ]
     },
     "execution_count": 18,
     "metadata": {},
     "output_type": "execute_result"
    }
   ],
   "source": [
    "#looking how much of inconsistent data:\n",
    "incos=['Kar?chi','Katunayaka','Pontchartrain Shores','R?walpindi']\n",
    "df.loc[df['START'].isin(incos),'START'].value_counts()"
   ]
  },
  {
   "cell_type": "code",
   "execution_count": 19,
   "id": "3abcac42",
   "metadata": {},
   "outputs": [],
   "source": [
    "#Reolacing the Inconsistent Value in START:\n",
    "df['START'].replace({'Kar?chi': 'Karachi',\n",
    "                      'Katunayaka': 'Katunayake',\n",
    "                      'Pontchartrain Shores': 'Pontchartrain Beach',\n",
    "                      'R?walpindi' : 'Rawalpindi'}, inplace=True)"
   ]
  },
  {
   "cell_type": "code",
   "execution_count": 20,
   "id": "ee057299",
   "metadata": {},
   "outputs": [
    {
     "data": {
      "text/plain": [
       "0"
      ]
     },
     "execution_count": 20,
     "metadata": {},
     "output_type": "execute_result"
    }
   ],
   "source": [
    "#checking data again:\n",
    "df['START'].isin(incos).sum()"
   ]
  },
  {
   "cell_type": "code",
   "execution_count": 21,
   "id": "d6d044c2",
   "metadata": {},
   "outputs": [
    {
     "name": "stdout",
     "output_type": "stream",
     "text": [
      "Agnew\n",
      "Alief\n",
      "Almond\n",
      "Apex\n",
      "Arabi\n",
      "Arlington\n",
      "Arlington Park at Amberly\n",
      "Arts District\n",
      "Asheville\n",
      "Banner Elk\n",
      "Bay Farm Island\n",
      "Bellevue\n",
      "Berkeley\n",
      "Boone\n",
      "Briar Meadow\n",
      "Bryson City\n",
      "Burtrose\n",
      "Bywater\n",
      "CBD\n",
      "Capitol One\n",
      "Cary\n",
      "Cedar Hill\n",
      "Central\n",
      "Chalmette\n",
      "Chapel Hill\n",
      "Chessington\n",
      "College Avenue\n",
      "Colombo\n",
      "Columbia Heights\n",
      "Congress Ave District\n",
      "Convention Center District\n",
      "Cory\n",
      "Covington\n",
      "Coxville\n",
      "Daytona Beach\n",
      "Depot Historic District\n",
      "Downtown\n",
      "Durham\n",
      "Eagle Rock\n",
      "East Elmhurst\n",
      "East Harlem\n",
      "Edgehill Farms\n",
      "El Cerrito\n",
      "Elk Park\n",
      "Emeryville\n",
      "Farmington Woods\n",
      "Faubourg Marigny\n",
      "Financial District\n",
      "Florence\n",
      "Fort Pierce\n",
      "French Quarter\n",
      "Fuquay-Varina\n",
      "Galveston\n",
      "Gampaha\n",
      "Gramercy-Flatiron\n",
      "Greater Greenspoint\n",
      "Gulfton\n",
      "Harden Place\n",
      "Hayesville\n",
      "Hazelwood\n",
      "Hell's Kitchen\n",
      "Heritage Pines\n",
      "Hog Island\n",
      "Holly Springs\n",
      "Houston\n",
      "Hudson Square\n",
      "Huntington Woods\n",
      "Ilukwatta\n",
      "Ingleside\n",
      "Islamabad\n",
      "Isles of Buena Vista\n",
      "Jackson Heights\n",
      "Jacksonville\n",
      "Jamaica\n",
      "Jamestown Court\n",
      "K Street\n",
      "Kalorama Triangle\n",
      "Kar?chi\n",
      "Karachi\n",
      "Katunayaka\n",
      "Katy\n",
      "Kenner\n",
      "Kilarney Woods\n",
      "Kildaire Farms\n",
      "Kips Bay\n",
      "Kissimmee\n",
      "Lahore\n",
      "Lake Reams\n",
      "Lake Wellingborough\n",
      "Lakeview\n",
      "Latta\n",
      "Leesville Hollow\n",
      "Lexington Park at Amberly\n",
      "Long Island City\n",
      "Lower Garden District\n",
      "Lower Manhattan\n",
      "Macgregor Downs\n",
      "Mandeville\n",
      "Marigny\n",
      "Mcvan\n",
      "Mebane\n",
      "Menlo Park\n",
      "Meredith Townes\n",
      "Metairie\n",
      "Midtown\n",
      "Midtown East\n",
      "Midtown West\n",
      "Morrisville\n",
      "Mountain View\n",
      "New Orleans\n",
      "New York\n",
      "Newark\n",
      "Newland\n",
      "NoMad\n",
      "Noorpur Shahan\n",
      "North Austin\n",
      "North Berkeley Hills\n",
      "Northwest Rectangle\n",
      "Northwoods\n",
      "Nugegoda\n",
      "Oakland\n",
      "Orlando\n",
      "Palm Beach\n",
      "Palo Alto\n",
      "Parkway\n",
      "Parkway Museums\n",
      "Parkwood\n",
      "Pontchartrain Beach\n",
      "Pontchartrain Shores\n",
      "Port Bolivar\n",
      "Potrero Flats\n",
      "Preston\n",
      "Queens\n",
      "Queens County\n",
      "R?walpindi\n",
      "Raleigh\n",
      "Rawalpindi\n",
      "Red River District\n",
      "Redmond\n",
      "Renaissance\n",
      "Ridgeland\n",
      "SOMISSPO\n",
      "San Francisco\n",
      "San Jose\n",
      "Sand Lake Commons\n",
      "Santa Clara\n",
      "Savon Height\n",
      "Seattle\n",
      "Sharpstown\n",
      "Sky Lake\n",
      "Soho\n",
      "South\n",
      "South Berkeley\n",
      "South Congress\n",
      "Southside\n",
      "Southwest Berkeley\n",
      "St Thomas\n",
      "Stonewater\n",
      "Storyville\n",
      "Sugar Land\n",
      "Summerwinds\n",
      "Sunnyside\n",
      "Sunnyvale\n",
      "Tanglewood\n",
      "Tenderloin\n",
      "The Drag\n",
      "Topton\n",
      "Tribeca\n",
      "Tudor City\n",
      "Umstead\n",
      "University District\n",
      "Unknown Location\n",
      "Vista East\n",
      "Wake Co.\n",
      "Wake Forest\n",
      "Walnut Terrace\n",
      "Washington\n",
      "Washington Avenue\n",
      "Waverly Place\n",
      "Wayne Ridge\n",
      "West Berkeley\n",
      "West Palm Beach\n",
      "West University\n",
      "Weston\n",
      "Westpark Place\n",
      "Whitebridge\n",
      "Williamsburg Manor\n",
      "Winston Salem\n"
     ]
    }
   ],
   "source": [
    "#Looking into END columns: \n",
    "for i in df['STOP'].value_counts().sort_index().index:\n",
    "    print(i)"
   ]
  },
  {
   "cell_type": "code",
   "execution_count": 22,
   "id": "9b516b6e",
   "metadata": {},
   "outputs": [
    {
     "data": {
      "text/plain": [
       "Kar?chi                 26\n",
       "R?walpindi              13\n",
       "Katunayaka               2\n",
       "Pontchartrain Shores     2\n",
       "Name: STOP, dtype: int64"
      ]
     },
     "execution_count": 22,
     "metadata": {},
     "output_type": "execute_result"
    }
   ],
   "source": [
    "#looking how much of inconsistent data:\n",
    "incos=['Kar?chi','Katunayaka','Pontchartrain Shores','R?walpindi']\n",
    "df.loc[df['STOP'].isin(incos),'STOP'].value_counts()"
   ]
  },
  {
   "cell_type": "code",
   "execution_count": 23,
   "id": "7f99ce6c",
   "metadata": {},
   "outputs": [],
   "source": [
    "#Replacing the inconsistent values\n",
    "df['STOP'].replace({\n",
    "    'Kar?chi': 'Karachi',\n",
    "                      'Katunayaka': 'Katunayake',\n",
    "                      'Pontchartrain Shores': 'Pontchartrain Beach',\n",
    "                      'R?walpindi' : 'Rawalpindi'\n",
    "}, inplace = True)"
   ]
  },
  {
   "cell_type": "code",
   "execution_count": 24,
   "id": "24b790b9",
   "metadata": {},
   "outputs": [
    {
     "data": {
      "text/plain": [
       "0"
      ]
     },
     "execution_count": 24,
     "metadata": {},
     "output_type": "execute_result"
    }
   ],
   "source": [
    "#Checking the data again:\n",
    "df['STOP'].isin(incos).sum()"
   ]
  },
  {
   "cell_type": "markdown",
   "id": "412459c2",
   "metadata": {},
   "source": [
    "## Checking Outliers And Anomalies: "
   ]
  },
  {
   "cell_type": "code",
   "execution_count": 25,
   "id": "5c2f8607",
   "metadata": {},
   "outputs": [
    {
     "data": {
      "image/png": "[encoded data removed]",
      "text/plain": [
       "<Figure size 720x432 with 1 Axes>"
      ]
     },
     "metadata": {
      "needs_background": "light"
     },
     "output_type": "display_data"
    }
   ],
   "source": [
    "m_median=df['MILES'].median()\n",
    "# Creating figure an\n",
    "fig, ax = plt.subplots(figsize = (10,6))\n",
    "\n",
    "#Plotting:\n",
    "sns.kdeplot(data=df,x='MILES',ax=ax)\n",
    "\n",
    "#Setting Title\n",
    "ax.set_title('Miles Distribution')\n",
    "\n",
    "#Setting Line\n",
    "ax.axvline(m_median,linestyle='--',label='Median',color='red')\n",
    "ax.annotate(f'The median miles is {m_median}',xy=(25,0.043))\n",
    "\n",
    "#Showing Legend \n",
    "ax.legend(fontsize='large')\n",
    "plt.show()"
   ]
  },
  {
   "cell_type": "code",
   "execution_count": 26,
   "id": "9010a934",
   "metadata": {},
   "outputs": [
    {
     "data": {
      "text/plain": [
       "count    1154.000000\n",
       "mean       10.567418\n",
       "std        21.588452\n",
       "min         0.500000\n",
       "25%         2.900000\n",
       "50%         6.000000\n",
       "75%        10.400000\n",
       "max       310.300000\n",
       "Name: MILES, dtype: float64"
      ]
     },
     "execution_count": 26,
     "metadata": {},
     "output_type": "execute_result"
    }
   ],
   "source": [
    "df['MILES'].describe()"
   ]
  },
  {
   "cell_type": "markdown",
   "id": "81df1ac1",
   "metadata": {},
   "source": [
    "#### We can see that :\n",
    "<font color='blue'> The minimun trip distance in our dataset is 0.5 miles.</font>\n",
    "<font color='blue'> The maximum trip distance in our dataset is 310.30 miles </font>\n"
   ]
  },
  {
   "cell_type": "markdown",
   "id": "7f631a33",
   "metadata": {},
   "source": [
    "# EDA"
   ]
  },
  {
   "cell_type": "markdown",
   "id": "1ce2257d",
   "metadata": {},
   "source": [
    "## Q1. How much Uber trips occurred during the timestamp in the dataset?"
   ]
  },
  {
   "cell_type": "code",
   "execution_count": 27,
   "id": "ffe3f844",
   "metadata": {},
   "outputs": [
    {
     "name": "stdout",
     "output_type": "stream",
     "text": [
      "The record starts from :  2016-01-01 21:11:00+00:00\n",
      "The record ends on :  2016-12-31 22:08:00+00:00\n",
      "No. of trips occurred during this time period :  1154\n"
     ]
    }
   ],
   "source": [
    "start_date= df['START_DATE'].min()\n",
    "end_date= df['START_DATE'].max()\n",
    "length=len(df)\n",
    "print(f'The record starts from : ', start_date)\n",
    "print(f'The record ends on : ',end_date)\n",
    "print(f'No. of trips occurred during this time period : ', length)"
   ]
  },
  {
   "cell_type": "markdown",
   "id": "f181ae43",
   "metadata": {},
   "source": [
    "### Insights"
   ]
  },
  {
   "cell_type": "markdown",
   "id": "4091f94d",
   "metadata": {},
   "source": [
    "The Number of Trips occurred is 1154 during 1st January 2016 to 31 December 2016 (1 year) "
   ]
  },
  {
   "cell_type": "markdown",
   "id": "ed33e3c2",
   "metadata": {},
   "source": [
    "## Q2. What is the median for daily and monthly total trips?"
   ]
  },
  {
   "cell_type": "code",
   "execution_count": 28,
   "id": "ffd5e492",
   "metadata": {},
   "outputs": [],
   "source": [
    "#Copying DataFrame..\n",
    "median_trip=df.copy()\n",
    "\n",
    "#Extracting Hour Day Month values\n",
    "median_trip['Hour']= median_trip['START_DATE'].apply(lambda x:x.strftime('%H'))\n",
    "median_trip['Month']= median_trip['START_DATE'].apply(lambda x:x.strftime('%b'))\n",
    "median_trip['Date']= median_trip['START_DATE'].apply(lambda x:x.strftime('%Y-%m-%d'))"
   ]
  },
  {
   "cell_type": "code",
   "execution_count": 29,
   "id": "5eca851e",
   "metadata": {},
   "outputs": [
    {
     "data": {
      "text/html": [
       "<div>\n",
       "<style scoped>\n",
       "    .dataframe tbody tr th:only-of-type {\n",
       "        vertical-align: middle;\n",
       "    }\n",
       "\n",
       "    .dataframe tbody tr th {\n",
       "        vertical-align: top;\n",
       "    }\n",
       "\n",
       "    .dataframe thead th {\n",
       "        text-align: right;\n",
       "    }\n",
       "</style>\n",
       "<table border=\"1\" class=\"dataframe\">\n",
       "  <thead>\n",
       "    <tr style=\"text-align: right;\">\n",
       "      <th></th>\n",
       "      <th>START_DATE</th>\n",
       "      <th>END_DATE</th>\n",
       "      <th>CATEGORY</th>\n",
       "      <th>START</th>\n",
       "      <th>STOP</th>\n",
       "      <th>MILES</th>\n",
       "      <th>PURPOSE</th>\n",
       "      <th>Hour</th>\n",
       "      <th>Month</th>\n",
       "      <th>Date</th>\n",
       "    </tr>\n",
       "  </thead>\n",
       "  <tbody>\n",
       "    <tr>\n",
       "      <th>0</th>\n",
       "      <td>2016-01-01 21:11:00+00:00</td>\n",
       "      <td>2016-01-01 21:17:00+00:00</td>\n",
       "      <td>Business</td>\n",
       "      <td>Fort Pierce</td>\n",
       "      <td>Fort Pierce</td>\n",
       "      <td>5.1</td>\n",
       "      <td>Meal/Entertain</td>\n",
       "      <td>21</td>\n",
       "      <td>Jan</td>\n",
       "      <td>2016-01-01</td>\n",
       "    </tr>\n",
       "    <tr>\n",
       "      <th>1</th>\n",
       "      <td>2016-01-02 01:25:00+00:00</td>\n",
       "      <td>2016-01-02 01:37:00+00:00</td>\n",
       "      <td>Business</td>\n",
       "      <td>Fort Pierce</td>\n",
       "      <td>Fort Pierce</td>\n",
       "      <td>5.0</td>\n",
       "      <td>NaN</td>\n",
       "      <td>01</td>\n",
       "      <td>Jan</td>\n",
       "      <td>2016-01-02</td>\n",
       "    </tr>\n",
       "  </tbody>\n",
       "</table>\n",
       "</div>"
      ],
      "text/plain": [
       "                 START_DATE                  END_DATE  CATEGORY        START  \\\n",
       "0 2016-01-01 21:11:00+00:00 2016-01-01 21:17:00+00:00  Business  Fort Pierce   \n",
       "1 2016-01-02 01:25:00+00:00 2016-01-02 01:37:00+00:00  Business  Fort Pierce   \n",
       "\n",
       "          STOP  MILES         PURPOSE Hour Month        Date  \n",
       "0  Fort Pierce    5.1  Meal/Entertain   21   Jan  2016-01-01  \n",
       "1  Fort Pierce    5.0             NaN   01   Jan  2016-01-02  "
      ]
     },
     "execution_count": 29,
     "metadata": {},
     "output_type": "execute_result"
    }
   ],
   "source": [
    "#Checking New Columns\n",
    "median_trip.head(2)"
   ]
  },
  {
   "cell_type": "code",
   "execution_count": 30,
   "id": "533f5183",
   "metadata": {},
   "outputs": [
    {
     "name": "stdout",
     "output_type": "stream",
     "text": [
      "The Monthly median is :  109.5\n",
      "The Daily Median is :  3.5\n"
     ]
    }
   ],
   "source": [
    "#Calculating Median For Monthly Total Trips.\n",
    "m_month= median_trip.groupby('Month').size().median()\n",
    "d_day=median_trip.groupby('Date').size().median()\n",
    "print(f'The Monthly median is : ',m_month)\n",
    "print(f'The Daily Median is : ',d_day)"
   ]
  },
  {
   "cell_type": "markdown",
   "id": "4bf2515d",
   "metadata": {},
   "source": [
    "### Insights:"
   ]
  },
  {
   "cell_type": "markdown",
   "id": "819aa481",
   "metadata": {},
   "source": [
    "There are approximately **110** bookings **Monthly** and **4** bookings **Daily**  in 2016. "
   ]
  },
  {
   "cell_type": "markdown",
   "id": "32f7bb06",
   "metadata": {},
   "source": [
    "## Q3. How is the customer segment proportion?"
   ]
  },
  {
   "cell_type": "code",
   "execution_count": 31,
   "id": "0fd8c139",
   "metadata": {},
   "outputs": [
    {
     "name": "stdout",
     "output_type": "stream",
     "text": [
      "Business    0.933276\n",
      "Personal    0.066724\n",
      "Name: CATEGORY, dtype: float64\n"
     ]
    },
    {
     "data": {
      "text/plain": [
       "Text(0.5, 1.0, 'Customer Segment Proportion :\\n 1st Jan 2016 to 31st Dec 2016')"
      ]
     },
     "execution_count": 31,
     "metadata": {},
     "output_type": "execute_result"
    },
    {
     "data": {
      "image/png": "[encoded data removed]",
      "text/plain": [
       "<Figure size 864x432 with 1 Axes>"
      ]
     },
     "metadata": {
      "needs_background": "light"
     },
     "output_type": "display_data"
    }
   ],
   "source": [
    "seg= df['CATEGORY'].value_counts(normalize= True)\n",
    "print(seg)\n",
    "fig, ax = plt.subplots(figsize = (12,6))\n",
    "sns.barplot(ax=ax, x= seg.index, y= seg.values)\n",
    "plt.xlabel('Categories')\n",
    "plt.ylabel('Proportions')\n",
    "plt.title('Customer Segment Proportion :\\n 1st Jan 2016 to 31st Dec 2016')"
   ]
  },
  {
   "cell_type": "code",
   "execution_count": 32,
   "id": "5ca0226a",
   "metadata": {},
   "outputs": [
    {
     "name": "stdout",
     "output_type": "stream",
     "text": [
      "Meeting            0.285276\n",
      "Meal/Entertain     0.245399\n",
      "Errand/Supplies    0.196319\n",
      "Customer Visit     0.154908\n",
      "Temporary Site     0.076687\n",
      "Between Offices    0.027607\n",
      "Moving             0.006135\n",
      "Airport/Travel     0.004601\n",
      "Charity ($)        0.001534\n",
      "Commute            0.001534\n",
      "Name: PURPOSE, dtype: float64\n"
     ]
    },
    {
     "data": {
      "image/png": "[encoded data removed]",
      "text/plain": [
       "<Figure size 1440x432 with 1 Axes>"
      ]
     },
     "metadata": {
      "needs_background": "light"
     },
     "output_type": "display_data"
    }
   ],
   "source": [
    "seg1= df['PURPOSE'].value_counts(normalize= True)\n",
    "fig, ax = plt.subplots(figsize = (20,6))\n",
    "sns.barplot(ax=ax, x= seg1.index, y= seg1.values)\n",
    "plt.xlabel('Segments')\n",
    "plt.ylabel('Proportions')\n",
    "plt.title('Customer Segment Proportion :\\n 1st Jan 2016 to 31st Dec 2016')\n",
    "print(seg1)"
   ]
  },
  {
   "cell_type": "markdown",
   "id": "40aae63d",
   "metadata": {},
   "source": [
    "### Insights:"
   ]
  },
  {
   "cell_type": "markdown",
   "id": "a7a0ddd4",
   "metadata": {},
   "source": [
    "~93% of the Customers are booking Uber for Business Purpose whereas ~7% for Personal use.\n",
    "Among Business purpose : Meeting , Meal/Entertain and Errand/Supplies are the Top."
   ]
  },
  {
   "cell_type": "markdown",
   "id": "92048719",
   "metadata": {},
   "source": [
    "## Q4. How is the hourly-trend for Uber trips?"
   ]
  },
  {
   "cell_type": "code",
   "execution_count": 33,
   "id": "2417bb7f",
   "metadata": {},
   "outputs": [
    {
     "data": {
      "text/plain": [
       "Text(0.5, 1.0, 'Hourly Trends for Uber Trips')"
      ]
     },
     "execution_count": 33,
     "metadata": {},
     "output_type": "execute_result"
    },
    {
     "data": {
      "image/png": "[encoded data removed]",
      "text/plain": [
       "<Figure size 1440x432 with 1 Axes>"
      ]
     },
     "metadata": {
      "needs_background": "light"
     },
     "output_type": "display_data"
    }
   ],
   "source": [
    "h_trip=median_trip.groupby('Hour').size().reset_index(name='Count')\n",
    "fig, ax = plt.subplots(figsize = (20,6))\n",
    "sns.lineplot(data=h_trip, x= 'Hour',y='Count',marker='.',markersize=12,color='red')\n",
    "plt.title(\"Hourly Trends for Uber Trips\")"
   ]
  },
  {
   "cell_type": "markdown",
   "id": "2063fe15",
   "metadata": {},
   "source": [
    "### Insights:"
   ]
  },
  {
   "cell_type": "markdown",
   "id": "6c7dae73",
   "metadata": {},
   "source": [
    "1. The booking of Uber starts rising at 6 A.M\n",
    "2. Peak Time is 3 P.M i.e,most number of Bookings\n",
    "3. Apparenlty No bookings between 4 A.M to 5 A.M"
   ]
  },
  {
   "cell_type": "markdown",
   "id": "ac5ec1d4",
   "metadata": {},
   "source": [
    "## Q5. What is the probability of each segments ordering an Uber for each hour?"
   ]
  },
  {
   "cell_type": "code",
   "execution_count": 34,
   "id": "59e38686",
   "metadata": {},
   "outputs": [
    {
     "data": {
      "text/plain": [
       "Text(0.5, 1.0, 'Segment Probability by Hour')"
      ]
     },
     "execution_count": 34,
     "metadata": {},
     "output_type": "execute_result"
    },
    {
     "data": {
      "image/png": "[encoded data removed]",
      "text/plain": [
       "<Figure size 1080x432 with 2 Axes>"
      ]
     },
     "metadata": {
      "needs_background": "light"
     },
     "output_type": "display_data"
    }
   ],
   "source": [
    "median_trip.groupby(['Hour','PURPOSE']).size().div(len(df)).reset_index(name='Probability')\n",
    "\n",
    "plt.figure(figsize=(15,6))\n",
    "contingency_table = pd.crosstab(median_trip['PURPOSE'],median_trip['Hour'], normalize='columns')\n",
    "sns.heatmap(contingency_table,annot=True,cmap='coolwarm',fmt='.2f')\n",
    "\n",
    "plt.title('Segment Probability by Hour')"
   ]
  },
  {
   "cell_type": "markdown",
   "id": "5d1d0ed7",
   "metadata": {},
   "source": [
    "### Insights : "
   ]
  },
  {
   "cell_type": "markdown",
   "id": "db714d6a",
   "metadata": {},
   "source": [
    "1. At 3am, the possibilities of a person ordering an Uber is for Meeting, Customer Visit, or Errand/Supplies.\n",
    "2. At 5am, the possibily for someone ordering an uber is either for Meeting or for Meal/Entertain."
   ]
  },
  {
   "cell_type": "markdown",
   "id": "ecf9d063",
   "metadata": {},
   "source": [
    "## Q6. What is the favorite pick-up spots for each segment?"
   ]
  },
  {
   "cell_type": "code",
   "execution_count": 35,
   "id": "7c743947",
   "metadata": {},
   "outputs": [
    {
     "data": {
      "image/png": "[encoded data removed]",
      "text/plain": [
       "<Figure size 864x792 with 10 Axes>"
      ]
     },
     "metadata": {
      "needs_background": "light"
     },
     "output_type": "display_data"
    }
   ],
   "source": [
    "# Creating figure and axes object\n",
    "fig, axs = plt.subplots(nrows = 5, ncols = 2, figsize = (12,11))\n",
    "\n",
    "# Flatten the axs array\n",
    "axs = axs.flatten()\n",
    "\n",
    "# Extracting PURPOSE column categories\n",
    "cat = df['PURPOSE'].unique()\n",
    "\n",
    "# Zipping ax and categories\n",
    "pair = tuple(zip(axs, cat))\n",
    "\n",
    "# Plotting\n",
    "for ax, cat in pair:\n",
    "    if type(cat) == float:\n",
    "        continue\n",
    "    else:\n",
    "        data = df.groupby(['PURPOSE', 'START']).size().reset_index(name='count').sort_values(by='count', ascending = False)\n",
    "        sns.barplot(\n",
    "            data = data.loc[data['PURPOSE'] == cat].head(5),\n",
    "            x = 'START',\n",
    "            y = 'count',\n",
    "            ax = ax\n",
    "        )\n",
    "        ax.set_title(f'Top 5 Pick-up Spots for {cat}')\n",
    "    \n",
    "plt.tight_layout()\n",
    "plt.show()"
   ]
  },
  {
   "cell_type": "markdown",
   "id": "814a7fca",
   "metadata": {},
   "source": [
    "### Insights :"
   ]
  },
  {
   "cell_type": "markdown",
   "id": "8e0af500",
   "metadata": {},
   "source": [
    "Now we can correlate this information with our insight before. For example:\n",
    "\n",
    "1. At 5am, drivers can stand by at Carry, Durham, Morrisvile, or Whitebridge because the possibilities to get an order is great at that time and place. (Remember our insights on the previous question which state that, at 5am the orders possibilities only comes from customers who have Meeting purpose or Meal/Entrtain purpose.\n",
    "2. This information also helps Uber and drivers understand the customers behaviors, specifically their location-ordering behavior."
   ]
  },
  {
   "cell_type": "markdown",
   "id": "bf6dca3a",
   "metadata": {},
   "source": [
    "## Q7. How is the daily-trend for Uber trips?"
   ]
  },
  {
   "cell_type": "code",
   "execution_count": 36,
   "id": "3a227a9e",
   "metadata": {},
   "outputs": [
    {
     "data": {
      "text/plain": [
       "Text(0.5, 0, 'Day Name')"
      ]
     },
     "execution_count": 36,
     "metadata": {},
     "output_type": "execute_result"
    },
    {
     "data": {
      "image/png": "[encoded data removed]",
      "text/plain": [
       "<Figure size 864x432 with 1 Axes>"
      ]
     },
     "metadata": {
      "needs_background": "light"
     },
     "output_type": "display_data"
    }
   ],
   "source": [
    "day_trend=df.copy()\n",
    "day_trend['DAYNAME'] = day_trend['START_DATE'].apply(lambda x: x.strftime('%A'))\n",
    "day_trend=day_trend.groupby('DAYNAME').size()\n",
    "\n",
    "#Creating Day Order:\n",
    "day=['Monday','Tuesday','Wednesday','Thursday','Friday','Saturday','Sunday']\n",
    "fig,ax=plt.subplots(figsize=(12,6))\n",
    "sns.lineplot(x=day_trend.loc[day].index,y=day_trend.loc[day].values,ax=ax,marker='.',markersize=12,color='red')\n",
    "plt.title(\"Daily Trend for Uber Trips\")\n",
    "plt.ylabel('Total Bookings')\n",
    "plt.xlabel('Day Name')"
   ]
  },
  {
   "cell_type": "markdown",
   "id": "e64bc632",
   "metadata": {},
   "source": [
    "### Insight :"
   ]
  },
  {
   "cell_type": "markdown",
   "id": "f3683a10",
   "metadata": {},
   "source": [
    "Friday has the Most Number of bookings for Uber Trips."
   ]
  },
  {
   "cell_type": "markdown",
   "id": "8ecc24b7",
   "metadata": {},
   "source": [
    "## Q8. How is the monthly-trend for Uber trips?"
   ]
  },
  {
   "cell_type": "code",
   "execution_count": 37,
   "id": "17da474f",
   "metadata": {},
   "outputs": [
    {
     "data": {
      "text/plain": [
       "Text(0, 0.5, 'COUNT')"
      ]
     },
     "execution_count": 37,
     "metadata": {},
     "output_type": "execute_result"
    },
    {
     "data": {
      "image/png": "[encoded data removed]",
      "text/plain": [
       "<Figure size 864x432 with 1 Axes>"
      ]
     },
     "metadata": {
      "needs_background": "light"
     },
     "output_type": "display_data"
    }
   ],
   "source": [
    "monthly_trip=median_trip.groupby('Month').size()\n",
    "\n",
    "#Creating a Month Order:\n",
    "Month=['Jan','Feb','Mar','Apr','May','Jun','Jul','Aug','Sep','Oct','Nov','Dec']\n",
    "\n",
    "fig,ax=plt.subplots(figsize=(12,6))\n",
    "sns.lineplot(x=monthly_trip.loc[Month].index,y=monthly_trip.loc[Month].values,ax=ax,marker='.',markersize=12,color='red')\n",
    "plt.title(\"Monthly Trends Of Uber Trips\")\n",
    "plt.xlabel('MONTHS')\n",
    "plt.ylabel('COUNT')"
   ]
  },
  {
   "cell_type": "markdown",
   "id": "cbcf4614",
   "metadata": {},
   "source": [
    "### Insights :"
   ]
  },
  {
   "cell_type": "markdown",
   "id": "95db876c",
   "metadata": {},
   "source": [
    "1. Bookings decreased on the month of **September** but starts increasing there after.\n",
    "2. Bookings was at its peak during the month of **December**."
   ]
  },
  {
   "cell_type": "markdown",
   "id": "dfdc4b2b",
   "metadata": {},
   "source": [
    "## Q9. Is there any specific characteristic of each segment based on the travel distance?"
   ]
  },
  {
   "cell_type": "code",
   "execution_count": 38,
   "id": "ee4cf5ed",
   "metadata": {},
   "outputs": [
    {
     "data": {
      "text/plain": [
       "Text(0.5, 0, 'MILES TRAVELLED')"
      ]
     },
     "execution_count": 38,
     "metadata": {},
     "output_type": "execute_result"
    },
    {
     "data": {
      "image/png": "[encoded data removed]",
      "text/plain": [
       "<Figure size 1080x432 with 1 Axes>"
      ]
     },
     "metadata": {
      "needs_background": "light"
     },
     "output_type": "display_data"
    }
   ],
   "source": [
    "plt.figure(figsize=(15,6))\n",
    "sns.boxplot(x='MILES',y='PURPOSE', data=df)\n",
    "plt.title('Distribution of Travel Distance by Customer Segment\\n01 Jan 2016 - 31 Dec 2016')\n",
    "plt.xlabel('MILES TRAVELLED')"
   ]
  },
  {
   "cell_type": "markdown",
   "id": "75710245",
   "metadata": {},
   "source": [
    "### Insights :"
   ]
  },
  {
   "cell_type": "markdown",
   "id": "3370e065",
   "metadata": {},
   "source": [
    "1. Customers who have Errand/Supplies purpose tend to have relatively low travel distance.\n",
    "2. On median, customers who have Meeting purpose travels further than most of the other purposes.\n",
    "3. Customers who have Customer Visit purpose have relatively high variability than the other purposes."
   ]
  },
  {
   "cell_type": "markdown",
   "id": "58c6ca50",
   "metadata": {},
   "source": [
    "## Q10. Is there any specific characteristic of each segment based on the travel time?"
   ]
  },
  {
   "cell_type": "code",
   "execution_count": 39,
   "id": "696d4444",
   "metadata": {},
   "outputs": [
    {
     "data": {
      "text/plain": [
       "Text(0.5, 1.0, 'Travel Time by Customer Segment Distribution\\n01 Jan 2016 - 31 Dec 2016')"
      ]
     },
     "execution_count": 39,
     "metadata": {},
     "output_type": "execute_result"
    },
    {
     "data": {
      "image/png": "[encoded data removed]",
      "text/plain": [
       "<Figure size 864x432 with 1 Axes>"
      ]
     },
     "metadata": {
      "needs_background": "light"
     },
     "output_type": "display_data"
    }
   ],
   "source": [
    "df['DURATION']=(df['END_DATE'] - df['START_DATE']).dt.total_seconds()/60\n",
    "fig,ax= plt.subplots(figsize=(12,6))\n",
    "sns.boxplot(x=df['DURATION'],y=df['PURPOSE'],ax=ax)\n",
    "plt.title(\"Travel Time by Customer Segment Distribution\\n01 Jan 2016 - 31 Dec 2016\")"
   ]
  },
  {
   "cell_type": "markdown",
   "id": "856ded5b",
   "metadata": {},
   "source": [
    "### Insight :"
   ]
  },
  {
   "cell_type": "markdown",
   "id": "81ed5a2f",
   "metadata": {},
   "source": [
    "1. Customers with Meal/Entertain purpose have relatively low travel duration compared to other purposes in Business category.\n",
    "2. On median, customers who have Meeting, Customer Visit, Temporary Site, and Between Offices purpose have similar travel duration.\n",
    "3. Customers who have Customer Visit purpose have relatively high variability than the other purposes."
   ]
  }
 ],
 "metadata": {
  "kernelspec": {
   "display_name": "Python 3 (ipykernel)",
   "language": "python",
   "name": "python3"
  },
  "language_info": {
   "codemirror_mode": {
    "name": "ipython",
    "version": 3
   },
   "file_extension": ".py",
   "mimetype": "text/x-python",
   "name": "python",
   "nbconvert_exporter": "python",
   "pygments_lexer": "ipython3",
   "version": "3.9.12"
  }
 },
 "nbformat": 4,
 "nbformat_minor": 5
}
